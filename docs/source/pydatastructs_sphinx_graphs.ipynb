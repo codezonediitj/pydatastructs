{
  "nbformat": 4,
  "nbformat_minor": 0,
  "metadata": {
    "colab": {
      "name": "pydatastructs-sphinx-graphs.ipynb",
      "provenance": [],
      "collapsed_sections": []
    },
    "kernelspec": {
      "name": "python3",
      "display_name": "Python 3"
    },
    "language_info": {
      "name": "python"
    }
  },
  "cells": [
    {
      "cell_type": "markdown",
      "metadata": {
        "id": "2qB4MTFoYSdW"
      },
      "source": [
        "Comparing Dijkstra and Bellman Ford Shortest Paths Algorithms using PyDataStructs\n",
        "===================================="
      ]
    },
    {
      "cell_type": "markdown",
      "metadata": {
        "id": "Zu6G_1RLYitv"
      },
      "source": [
        "Dataset\n",
        "-------\n",
        "\n",
        "We have used [California road network](https://snap.stanford.edu/data/roadNet-CA.html) from [Stanford Network Analysis Project](https://snap.stanford.edu/index.html). The intent of this demo is to show how **pydatastructs** can be used for research and analysis purposes.\n",
        "\n",
        "The above dataset is a road network of California as the name suggests. The intersections and endpoints in this network are represented as vertices and the roads between them are represented as undirected edges. The data is read from a `txt` file where each line contains two numbers representing two points of an edge in the graph. We have used varying number of these edges to analyse how each algorithm responds to the varying scale of the shortest path problem at hand."
      ]
    },
    {
      "cell_type": "markdown",
      "metadata": {
        "id": "YoaukKUfaF66"
      },
      "source": [
        "Results\n",
        "-------\n",
        "\n",
        "We observed that for low inverse density (total number of possible edges divided by number of edges present) graphs, both algorithms take similar amounts of time. However Dijkstra algorithm performs significantly better with high inverse density graphs as compared to Bellman Ford algorithm."
      ]
    },
    {
      "cell_type": "code",
      "metadata": {
        "id": "_qWIIix_Twd5"
      },
      "source": [
        "# Import modules and APIs for Graphs\n",
        "from pydatastructs import Graph, AdjacencyListGraphNode\n",
        "from pydatastructs import shortest_paths, topological_sort\n",
        "\n",
        "# Import utility modules\n",
        "import timeit, random, functools, matplotlib.pyplot as plt"
      ],
      "execution_count": null,
      "outputs": []
    },
    {
      "cell_type": "code",
      "metadata": {
        "id": "8TDkoIgcXJr6"
      },
      "source": [
        "def create_Graph(num_edges, file_path, ignore_lines=4):\n",
        "    \"\"\"\n",
        "    Creates pydatastructs.Graph object.\n",
        "\n",
        "    Parameters\n",
        "    ==========\n",
        "\n",
        "    num_edges: int\n",
        "        Number of edges that should be present in the\n",
        "        pydatastructs.Graph object.\n",
        "    file_path: str\n",
        "        The path to the file containing California\n",
        "        road network dataset.\n",
        "    ignore_lines: int\n",
        "        Number of inital lines that should be ignored.\n",
        "        Optional, by default 4 because the first 4 lines\n",
        "        contain documentation of the dataset which is not\n",
        "        required to generate the pydatastructs.Graph object.\n",
        "    \n",
        "    Returns\n",
        "    =======\n",
        "\n",
        "    G: pydatastructs.Graph\n",
        "    \"\"\"\n",
        "    f = open(file_path, 'r')\n",
        "    for _ in range(ignore_lines):\n",
        "        f.readline()\n",
        "    G = Graph()\n",
        "    inp = f.readline().split()\n",
        "    for _ in range(num_edges):\n",
        "        u, v = inp\n",
        "        G.add_vertex(AdjacencyListGraphNode(u))\n",
        "        G.add_vertex(AdjacencyListGraphNode(v))\n",
        "        G.add_edge(u, v, random.randint(1, 1000)) \n",
        "        inp = f.readline().split()\n",
        "    return G"
      ],
      "execution_count": null,
      "outputs": []
    },
    {
      "cell_type": "code",
      "metadata": {
        "id": "qRS4Rz-ZRZ51"
      },
      "source": [
        "def generate_data(file_name, min_num_edges, max_num_edges, increment):\n",
        "    \"\"\"\n",
        "    Generates computation time data for Dijkstra and Bellman ford\n",
        "    algorithms using pydatastructs.shortest_paths.\n",
        "\n",
        "    Parameters\n",
        "    ==========\n",
        "\n",
        "    file_path: str\n",
        "        The path to the file containing California\n",
        "        road network dataset.\n",
        "    min_num_edges: int\n",
        "        The minimum number of edges to be used for\n",
        "        comparison of algorithms.\n",
        "    max_num_edges: int\n",
        "        The maximum number of edges to be used for comparison\n",
        "        of algorithms.\n",
        "    increment: int\n",
        "        The value to be used to increment the scale of the\n",
        "        shortest path problem. For example if using 50 edges,\n",
        "        and increment value is 10, then in the next iteration,\n",
        "        60 edges will be used and in the next to next iteration,\n",
        "        70 edges will be used and so on until we hit the max_num_edges\n",
        "        value.\n",
        "\n",
        "    Returns\n",
        "    =======\n",
        "\n",
        "    graph_data, data_dijkstra, data_bellman_ford: (list, list, list)\n",
        "        graph_data contains tuples of number of vertices and number\n",
        "        of edges.\n",
        "        data_dijkstra contains the computation time values for each\n",
        "        graph when Dijkstra algorithm is used.\n",
        "        data_bellman_ford contains the computation time values for each\n",
        "        graph when Bellman ford algorithm is used.    \n",
        "    \"\"\"\n",
        "    data_dijkstra, data_bellman_ford, graph_data = [], [], []\n",
        "    for edge in range(min_num_edges, max_num_edges + 1, increment):\n",
        "        G = create_Graph(edge, file_name)\n",
        "        t = timeit.Timer(functools.partial(shortest_paths, G, 'dijkstra', '1'))\n",
        "        t_djk = t.repeat(1, 1)\n",
        "        t = timeit.Timer(functools.partial(shortest_paths, G, 'bellman_ford', '1'))\n",
        "        t_bf = t.repeat(1, 1)\n",
        "        graph_data.append((len(G.vertices), len(G.edge_weights)))\n",
        "        data_dijkstra.append(t_djk[0])\n",
        "        data_bellman_ford.append(t_bf[0])\n",
        "    return graph_data, data_dijkstra, data_bellman_ford"
      ],
      "execution_count": null,
      "outputs": []
    },
    {
      "cell_type": "code",
      "metadata": {
        "id": "GTeSF1ChA2Bz"
      },
      "source": [
        "def plot_data(graph_data, data_dijkstra, data_bellman_ford):\n",
        "    \"\"\"\n",
        "    Utility function to plot the computation time values\n",
        "    for Dijkstra and Bellman ford algorithms versus\n",
        "    the inverse density of the input graph.\n",
        "    \"\"\"\n",
        "    idensity, time_dijkstra, time_bellman_ford = [], [], []\n",
        "    for datum_graph, datum_djk, datum_bf in zip(graph_data, data_dijkstra, data_bellman_ford):\n",
        "        num_edges, num_vertices = datum_graph[1], datum_graph[0]\n",
        "        idensity.append((num_vertices*(num_vertices - 1))/(2*num_edges))\n",
        "        time_dijkstra.append(datum_djk)\n",
        "        time_bellman_ford.append(datum_bf)\n",
        "    plt.xlabel(\"Inverse Density of Input Graph\")\n",
        "    plt.ylabel(\"Computation Time (s)\")\n",
        "    plt.plot(idensity, time_dijkstra, label=\"Dijkstra\")\n",
        "    plt.plot(idensity, time_bellman_ford, label=\"Bellman Ford\")\n",
        "    plt.legend(loc=\"best\")\n",
        "    plt.show()"
      ],
      "execution_count": null,
      "outputs": []
    },
    {
      "cell_type": "code",
      "metadata": {
        "id": "UXqC736NXfs2"
      },
      "source": [
        "graph_data, data_djk, data_bf = generate_data('roadNet-CA.txt', 50, 2000, 50)"
      ],
      "execution_count": null,
      "outputs": []
    },
    {
      "cell_type": "code",
      "metadata": {
        "colab": {
          "base_uri": "https://localhost:8080/",
          "height": 300
        },
        "id": "EEEPGwOpV_DC",
        "outputId": "8e84de7b-c905-4cd1-e075-514982c2ef22"
      },
      "source": [
        "plot_data(graph_data, data_djk, data_bf)"
      ],
      "execution_count": null,
      "outputs": [
        {
          "output_type": "display_data",
          "data": {
            "image/png": "[encoded data removed]",
            "text/plain": [
              "<Figure size 432x288 with 1 Axes>"
            ]
          },
          "metadata": {
            "needs_background": "light"
          }
        }
      ]
    }
  ]
}